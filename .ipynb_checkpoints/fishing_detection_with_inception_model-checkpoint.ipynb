{
 "cells": [
  {
   "cell_type": "markdown",
   "metadata": {
    "colab_type": "text",
    "id": "kFSqkTCdWKMI"
   },
   "source": [
    "# Imports"
   ]
  },
  {
   "cell_type": "code",
   "execution_count": 3,
   "metadata": {
    "colab": {
     "autoexec": {
      "startup": false,
      "wait_interval": 0
     }
    },
    "colab_type": "code",
    "id": "hV4P5gyTWKMI"
   },
   "outputs": [],
   "source": [
    "import numpy as np\n",
    "import os\n",
    "import six.moves.urllib as urllib\n",
    "import sys\n",
    "import tarfile\n",
    "import tensorflow as tf\n",
    "import zipfile\n",
    "import cv2\n",
    "from collections import defaultdict\n",
    "from io import StringIO\n",
    "from matplotlib import pyplot as plt\n",
    "from PIL import Image\n",
    "import glob\n",
    "from keras.models import Sequential\n",
    "from keras.layers import Flatten, Dense, Lambda, Conv2D, Activation, Cropping2D, MaxPooling2D, Dropout, Reshape, Convolution2D\n",
    "from moviepy.editor import VideoFileClip\n",
    "# This is needed since the notebook is stored in the object_detection folder.\n",
    "#sys.path.append(\"..\")\n",
    "from object_detection.utils import ops as utils_ops\n",
    "\n",
    "if tf.__version__ < '1.4.0':\n",
    "  raise ImportError('Please upgrade your tensorflow installation to v1.4.* or later!')\n"
   ]
  },
  {
   "cell_type": "markdown",
   "metadata": {
    "colab_type": "text",
    "id": "Wy72mWwAWKMK"
   },
   "source": [
    "## Env setup"
   ]
  },
  {
   "cell_type": "code",
   "execution_count": 4,
   "metadata": {
    "colab": {
     "autoexec": {
      "startup": false,
      "wait_interval": 0
     }
    },
    "colab_type": "code",
    "id": "v7m_NY_aWKMK"
   },
   "outputs": [],
   "source": [
    "# This is needed to display the images.\n",
    "%matplotlib inline"
   ]
  },
  {
   "cell_type": "markdown",
   "metadata": {
    "colab_type": "text",
    "id": "r5FNuiRPWKMN"
   },
   "source": [
    "## Object detection imports\n",
    "Here are the imports from the object detection module."
   ]
  },
  {
   "cell_type": "code",
   "execution_count": 8,
   "metadata": {
    "colab": {
     "autoexec": {
      "startup": false,
      "wait_interval": 0
     }
    },
    "colab_type": "code",
    "id": "bm0_uNRnWKMN"
   },
   "outputs": [
    {
     "name": "stderr",
     "output_type": "stream",
     "text": [
      "D:\\fishing_detection\\utils\\visualization_utils.py:25: UserWarning: \n",
      "This call to matplotlib.use() has no effect because the backend has already\n",
      "been chosen; matplotlib.use() must be called *before* pylab, matplotlib.pyplot,\n",
      "or matplotlib.backends is imported for the first time.\n",
      "\n",
      "The backend was *originally* set to 'module://ipykernel.pylab.backend_inline' by the following code:\n",
      "  File \"C:\\Users\\hitesh\\AppData\\Local\\Continuum\\anaconda3\\envs\\BeaverDam\\lib\\runpy.py\", line 193, in _run_module_as_main\n",
      "    \"__main__\", mod_spec)\n",
      "  File \"C:\\Users\\hitesh\\AppData\\Local\\Continuum\\anaconda3\\envs\\BeaverDam\\lib\\runpy.py\", line 85, in _run_code\n",
      "    exec(code, run_globals)\n",
      "  File \"C:\\Users\\hitesh\\AppData\\Local\\Continuum\\anaconda3\\envs\\BeaverDam\\lib\\site-packages\\ipykernel_launcher.py\", line 16, in <module>\n",
      "    app.launch_new_instance()\n",
      "  File \"C:\\Users\\hitesh\\AppData\\Local\\Continuum\\anaconda3\\envs\\BeaverDam\\lib\\site-packages\\traitlets\\config\\application.py\", line 658, in launch_instance\n",
      "    app.start()\n",
      "  File \"C:\\Users\\hitesh\\AppData\\Local\\Continuum\\anaconda3\\envs\\BeaverDam\\lib\\site-packages\\ipykernel\\kernelapp.py\", line 486, in start\n",
      "    self.io_loop.start()\n",
      "  File \"C:\\Users\\hitesh\\AppData\\Local\\Continuum\\anaconda3\\envs\\BeaverDam\\lib\\site-packages\\tornado\\platform\\asyncio.py\", line 127, in start\n",
      "    self.asyncio_loop.run_forever()\n",
      "  File \"C:\\Users\\hitesh\\AppData\\Local\\Continuum\\anaconda3\\envs\\BeaverDam\\lib\\asyncio\\base_events.py\", line 422, in run_forever\n",
      "    self._run_once()\n",
      "  File \"C:\\Users\\hitesh\\AppData\\Local\\Continuum\\anaconda3\\envs\\BeaverDam\\lib\\asyncio\\base_events.py\", line 1434, in _run_once\n",
      "    handle._run()\n",
      "  File \"C:\\Users\\hitesh\\AppData\\Local\\Continuum\\anaconda3\\envs\\BeaverDam\\lib\\asyncio\\events.py\", line 145, in _run\n",
      "    self._callback(*self._args)\n",
      "  File \"C:\\Users\\hitesh\\AppData\\Local\\Continuum\\anaconda3\\envs\\BeaverDam\\lib\\site-packages\\tornado\\platform\\asyncio.py\", line 117, in _handle_events\n",
      "    handler_func(fileobj, events)\n",
      "  File \"C:\\Users\\hitesh\\AppData\\Local\\Continuum\\anaconda3\\envs\\BeaverDam\\lib\\site-packages\\tornado\\stack_context.py\", line 276, in null_wrapper\n",
      "    return fn(*args, **kwargs)\n",
      "  File \"C:\\Users\\hitesh\\AppData\\Local\\Continuum\\anaconda3\\envs\\BeaverDam\\lib\\site-packages\\zmq\\eventloop\\zmqstream.py\", line 450, in _handle_events\n",
      "    self._handle_recv()\n",
      "  File \"C:\\Users\\hitesh\\AppData\\Local\\Continuum\\anaconda3\\envs\\BeaverDam\\lib\\site-packages\\zmq\\eventloop\\zmqstream.py\", line 480, in _handle_recv\n",
      "    self._run_callback(callback, msg)\n",
      "  File \"C:\\Users\\hitesh\\AppData\\Local\\Continuum\\anaconda3\\envs\\BeaverDam\\lib\\site-packages\\zmq\\eventloop\\zmqstream.py\", line 432, in _run_callback\n",
      "    callback(*args, **kwargs)\n",
      "  File \"C:\\Users\\hitesh\\AppData\\Local\\Continuum\\anaconda3\\envs\\BeaverDam\\lib\\site-packages\\tornado\\stack_context.py\", line 276, in null_wrapper\n",
      "    return fn(*args, **kwargs)\n",
      "  File \"C:\\Users\\hitesh\\AppData\\Local\\Continuum\\anaconda3\\envs\\BeaverDam\\lib\\site-packages\\ipykernel\\kernelbase.py\", line 283, in dispatcher\n",
      "    return self.dispatch_shell(stream, msg)\n",
      "  File \"C:\\Users\\hitesh\\AppData\\Local\\Continuum\\anaconda3\\envs\\BeaverDam\\lib\\site-packages\\ipykernel\\kernelbase.py\", line 233, in dispatch_shell\n",
      "    handler(stream, idents, msg)\n",
      "  File \"C:\\Users\\hitesh\\AppData\\Local\\Continuum\\anaconda3\\envs\\BeaverDam\\lib\\site-packages\\ipykernel\\kernelbase.py\", line 399, in execute_request\n",
      "    user_expressions, allow_stdin)\n",
      "  File \"C:\\Users\\hitesh\\AppData\\Local\\Continuum\\anaconda3\\envs\\BeaverDam\\lib\\site-packages\\ipykernel\\ipkernel.py\", line 208, in do_execute\n",
      "    res = shell.run_cell(code, store_history=store_history, silent=silent)\n",
      "  File \"C:\\Users\\hitesh\\AppData\\Local\\Continuum\\anaconda3\\envs\\BeaverDam\\lib\\site-packages\\ipykernel\\zmqshell.py\", line 537, in run_cell\n",
      "    return super(ZMQInteractiveShell, self).run_cell(*args, **kwargs)\n",
      "  File \"C:\\Users\\hitesh\\AppData\\Local\\Continuum\\anaconda3\\envs\\BeaverDam\\lib\\site-packages\\IPython\\core\\interactiveshell.py\", line 2662, in run_cell\n",
      "    raw_cell, store_history, silent, shell_futures)\n",
      "  File \"C:\\Users\\hitesh\\AppData\\Local\\Continuum\\anaconda3\\envs\\BeaverDam\\lib\\site-packages\\IPython\\core\\interactiveshell.py\", line 2785, in _run_cell\n",
      "    interactivity=interactivity, compiler=compiler, result=result)\n",
      "  File \"C:\\Users\\hitesh\\AppData\\Local\\Continuum\\anaconda3\\envs\\BeaverDam\\lib\\site-packages\\IPython\\core\\interactiveshell.py\", line 2907, in run_ast_nodes\n",
      "    if self.run_code(code, result):\n",
      "  File \"C:\\Users\\hitesh\\AppData\\Local\\Continuum\\anaconda3\\envs\\BeaverDam\\lib\\site-packages\\IPython\\core\\interactiveshell.py\", line 2961, in run_code\n",
      "    exec(code_obj, self.user_global_ns, self.user_ns)\n",
      "  File \"<ipython-input-4-0f0a85121700>\", line 2, in <module>\n",
      "    get_ipython().run_line_magic('matplotlib', 'inline')\n",
      "  File \"C:\\Users\\hitesh\\AppData\\Local\\Continuum\\anaconda3\\envs\\BeaverDam\\lib\\site-packages\\IPython\\core\\interactiveshell.py\", line 2131, in run_line_magic\n",
      "    result = fn(*args,**kwargs)\n",
      "  File \"<decorator-gen-108>\", line 2, in matplotlib\n",
      "  File \"C:\\Users\\hitesh\\AppData\\Local\\Continuum\\anaconda3\\envs\\BeaverDam\\lib\\site-packages\\IPython\\core\\magic.py\", line 187, in <lambda>\n",
      "    call = lambda f, *a, **k: f(*a, **k)\n",
      "  File \"C:\\Users\\hitesh\\AppData\\Local\\Continuum\\anaconda3\\envs\\BeaverDam\\lib\\site-packages\\IPython\\core\\magics\\pylab.py\", line 99, in matplotlib\n",
      "    gui, backend = self.shell.enable_matplotlib(args.gui)\n",
      "  File \"C:\\Users\\hitesh\\AppData\\Local\\Continuum\\anaconda3\\envs\\BeaverDam\\lib\\site-packages\\IPython\\core\\interactiveshell.py\", line 3049, in enable_matplotlib\n",
      "    pt.activate_matplotlib(backend)\n",
      "  File \"C:\\Users\\hitesh\\AppData\\Local\\Continuum\\anaconda3\\envs\\BeaverDam\\lib\\site-packages\\IPython\\core\\pylabtools.py\", line 311, in activate_matplotlib\n",
      "    matplotlib.pyplot.switch_backend(backend)\n",
      "  File \"C:\\Users\\hitesh\\AppData\\Local\\Continuum\\anaconda3\\envs\\BeaverDam\\lib\\site-packages\\matplotlib\\pyplot.py\", line 231, in switch_backend\n",
      "    matplotlib.use(newbackend, warn=False, force=True)\n",
      "  File \"C:\\Users\\hitesh\\AppData\\Local\\Continuum\\anaconda3\\envs\\BeaverDam\\lib\\site-packages\\matplotlib\\__init__.py\", line 1410, in use\n",
      "    reload(sys.modules['matplotlib.backends'])\n",
      "  File \"C:\\Users\\hitesh\\AppData\\Local\\Continuum\\anaconda3\\envs\\BeaverDam\\lib\\importlib\\__init__.py\", line 166, in reload\n",
      "    _bootstrap._exec(spec, module)\n",
      "  File \"C:\\Users\\hitesh\\AppData\\Local\\Continuum\\anaconda3\\envs\\BeaverDam\\lib\\site-packages\\matplotlib\\backends\\__init__.py\", line 16, in <module>\n",
      "    line for line in traceback.format_stack()\n",
      "\n",
      "\n",
      "  import matplotlib; matplotlib.use('Agg')  # pylint: disable=multiple-statements\n"
     ]
    }
   ],
   "source": [
    "from utils import label_map_util\n",
    "\n",
    "from utils import visualization_utils as vis_util"
   ]
  },
  {
   "cell_type": "markdown",
   "metadata": {
    "colab_type": "text",
    "id": "cfn_tRFOWKMO"
   },
   "source": [
    "# Model preparation "
   ]
  },
  {
   "cell_type": "markdown",
   "metadata": {
    "colab_type": "text",
    "id": "X_sEBLpVWKMQ"
   },
   "source": [
    "## Variables\n",
    "\n",
    "Any model exported using the `export_inference_graph.py` tool can be loaded here simply by changing `PATH_TO_FROZEN_GRAPH` to point to a new .pb file.  \n",
    "\n",
    "By default we use an \"SSD with Mobilenet\" model here. See the [detection model zoo](https://github.com/tensorflow/models/blob/master/research/object_detection/g3doc/detection_model_zoo.md) for a list of other models that can be run out-of-the-box with varying speeds and accuracies."
   ]
  },
  {
   "cell_type": "code",
   "execution_count": 40,
   "metadata": {
    "colab": {
     "autoexec": {
      "startup": false,
      "wait_interval": 0
     }
    },
    "colab_type": "code",
    "id": "VyPz_t8WWKMQ"
   },
   "outputs": [],
   "source": [
    "# What model to download.\n",
    "DIRECTORY_NAME = 'models'\n",
    "MODEL_NAME = 'ssd_mobilenet_v1_coco_2017_11_17'\n",
    "TAR_EXTENSION = '.tar.gz'\n",
    "MODEL_FILE = MODEL_NAME + TAR_EXTENSION\n",
    "GRAPH_NAME = 'frozen_inference_graph.pb'\n",
    "DOWNLOAD_BASE = 'http://download.tensorflow.org/models/object_detection/'\n",
    "PATH_TO_FROZEN_GRAPH = os.path.join(DIRECTORY_NAME, MODEL_NAME, GRAPH_NAME)\n",
    "\n",
    "# List of the strings that is used to add correct label for each box.\n",
    "PATH_TO_LABELS = os.path.join('data', 'mscoco_label_map.pbtxt')\n",
    "\n",
    "NUM_CLASSES = 90"
   ]
  },
  {
   "cell_type": "code",
   "execution_count": 44,
   "metadata": {},
   "outputs": [
    {
     "name": "stdout",
     "output_type": "stream",
     "text": [
      "models\\ssd_mobilenet_v1_coco_2017_11_17\\frozen_inference_graph.pb data\\mscoco_label_map.pbtxt\n",
      "True\n",
      "models\\ssd_mobilenet_v1_coco_2017_11_17.tar.gz\n"
     ]
    }
   ],
   "source": [
    "print(PATH_TO_FROZEN_GRAPH, PATH_TO_LABELS)\n",
    "print (os.path.isfile(PATH_TO_FROZEN_GRAPH))\n",
    "print(os.path.join(DIRECTORY_NAME, MODEL_FILE))"
   ]
  },
  {
   "cell_type": "markdown",
   "metadata": {
    "colab_type": "text",
    "id": "7ai8pLZZWKMS"
   },
   "source": [
    "## Download Model"
   ]
  },
  {
   "cell_type": "code",
   "execution_count": 45,
   "metadata": {},
   "outputs": [],
   "source": [
    "if(not os.path.isfile(PATH_TO_FROZEN_GRAPH)):\n",
    "  opener = urllib.request.URLopener()\n",
    "  opener.retrieve(DOWNLOAD_BASE + MODEL_FILE, os.path.join(DIRECTORY_NAME, MODEL_FILE))\n",
    "  tar_file = tarfile.open(MODEL_FILE)\n",
    "  for file in tar_file.getmembers():\n",
    "    file_name = os.path.basename(file.name)\n",
    "    if 'frozen_inference_graph.pb' in file_name:\n",
    "      tar_file.extract(file, os.getcwd())"
   ]
  },
  {
   "cell_type": "markdown",
   "metadata": {
    "colab_type": "text",
    "id": "YBcB9QHLWKMU"
   },
   "source": [
    "## Load a (frozen) Tensorflow model into memory."
   ]
  },
  {
   "cell_type": "code",
   "execution_count": 18,
   "metadata": {
    "colab": {
     "autoexec": {
      "startup": false,
      "wait_interval": 0
     }
    },
    "colab_type": "code",
    "id": "KezjCRVvWKMV"
   },
   "outputs": [],
   "source": [
    "detection_graph = tf.Graph()\n",
    "with detection_graph.as_default():\n",
    "  od_graph_def = tf.GraphDef()\n",
    "  with tf.gfile.GFile(PATH_TO_FROZEN_GRAPH, 'rb') as fid:\n",
    "    serialized_graph = fid.read()\n",
    "    od_graph_def.ParseFromString(serialized_graph)\n",
    "    tf.import_graph_def(od_graph_def, name='')"
   ]
  },
  {
   "cell_type": "markdown",
   "metadata": {
    "colab_type": "text",
    "id": "_1MVVTcLWKMW"
   },
   "source": [
    "## Loading label map\n",
    "Label maps map indices to category names, so that when our convolution network predicts `5`, we know that this corresponds to `airplane`.  Here we use internal utility functions, but anything that returns a dictionary mapping integers to appropriate string labels would be fine"
   ]
  },
  {
   "cell_type": "code",
   "execution_count": 19,
   "metadata": {
    "colab": {
     "autoexec": {
      "startup": false,
      "wait_interval": 0
     }
    },
    "colab_type": "code",
    "id": "hDbpHkiWWKMX"
   },
   "outputs": [],
   "source": [
    "label_map = label_map_util.load_labelmap(PATH_TO_LABELS)\n",
    "categories = label_map_util.convert_label_map_to_categories(label_map, max_num_classes=NUM_CLASSES, use_display_name=True)\n",
    "category_index = label_map_util.create_category_index(categories)"
   ]
  },
  {
   "cell_type": "markdown",
   "metadata": {
    "colab_type": "text",
    "id": "EFsoUHvbWKMZ"
   },
   "source": [
    "## Helper code"
   ]
  },
  {
   "cell_type": "code",
   "execution_count": 20,
   "metadata": {
    "colab": {
     "autoexec": {
      "startup": false,
      "wait_interval": 0
     }
    },
    "colab_type": "code",
    "id": "aSlYc3JkWKMa"
   },
   "outputs": [],
   "source": [
    "def load_image_into_numpy_array(image):\n",
    "  (im_width, im_height) = image.size\n",
    "  return np.array(image.getdata()).reshape(\n",
    "      (im_height, im_width, 3)).astype(np.uint8)"
   ]
  },
  {
   "cell_type": "markdown",
   "metadata": {
    "colab_type": "text",
    "id": "H0_1AGhrWKMc"
   },
   "source": [
    "# Detection"
   ]
  },
  {
   "cell_type": "code",
   "execution_count": 21,
   "metadata": {
    "colab": {
     "autoexec": {
      "startup": false,
      "wait_interval": 0
     }
    },
    "colab_type": "code",
    "id": "jG-zn5ykWKMd"
   },
   "outputs": [],
   "source": [
    "# For the sake of simplicity we will use only 2 images:\n",
    "# image1.jpg\n",
    "# image2.jpg\n",
    "# If you want to test the code with your images, just add path to the images to the TEST_IMAGE_PATHS.\n",
    "PATH_TO_TEST_IMAGES_DIR = 'test_images'\n",
    "TEST_IMAGE_PATHS = [ os.path.join(PATH_TO_TEST_IMAGES_DIR, 'image{}.jpg'.format(i)) for i in range(1, 3) ]\n",
    "\n",
    "# Size, in inches, of the output images.\n",
    "IMAGE_SIZE = (12, 8)"
   ]
  },
  {
   "cell_type": "code",
   "execution_count": 22,
   "metadata": {
    "colab": {
     "autoexec": {
      "startup": false,
      "wait_interval": 0
     }
    },
    "colab_type": "code",
    "id": "92BHxzcNWKMf"
   },
   "outputs": [],
   "source": [
    "def run_inference_for_single_image(image, graph):\n",
    "  with graph.as_default():\n",
    "    with tf.Session() as sess:\n",
    "      # Get handles to input and output tensors\n",
    "      ops = tf.get_default_graph().get_operations()\n",
    "      all_tensor_names = {output.name for op in ops for output in op.outputs}\n",
    "      tensor_dict = {}\n",
    "      for key in [\n",
    "          'num_detections', 'detection_boxes', 'detection_scores',\n",
    "          'detection_classes', 'detection_masks'\n",
    "      ]:\n",
    "        tensor_name = key + ':0'\n",
    "        if tensor_name in all_tensor_names:\n",
    "          tensor_dict[key] = tf.get_default_graph().get_tensor_by_name(\n",
    "              tensor_name)\n",
    "      if 'detection_masks' in tensor_dict:\n",
    "        # The following processing is only for single image\n",
    "        detection_boxes = tf.squeeze(tensor_dict['detection_boxes'], [0])\n",
    "        detection_masks = tf.squeeze(tensor_dict['detection_masks'], [0])\n",
    "        # Reframe is required to translate mask from box coordinates to image coordinates and fit the image size.\n",
    "        real_num_detection = tf.cast(tensor_dict['num_detections'][0], tf.int32)\n",
    "        detection_boxes = tf.slice(detection_boxes, [0, 0], [real_num_detection, -1])\n",
    "        detection_masks = tf.slice(detection_masks, [0, 0, 0], [real_num_detection, -1, -1])\n",
    "        detection_masks_reframed = utils_ops.reframe_box_masks_to_image_masks(\n",
    "            detection_masks, detection_boxes, image.shape[0], image.shape[1])\n",
    "        detection_masks_reframed = tf.cast(\n",
    "            tf.greater(detection_masks_reframed, 0.5), tf.uint8)\n",
    "        # Follow the convention by adding back the batch dimension\n",
    "        tensor_dict['detection_masks'] = tf.expand_dims(\n",
    "            detection_masks_reframed, 0)\n",
    "      image_tensor = tf.get_default_graph().get_tensor_by_name('image_tensor:0')\n",
    "\n",
    "      # Run inference\n",
    "      output_dict = sess.run(tensor_dict,\n",
    "                             feed_dict={image_tensor: np.expand_dims(image, 0)})\n",
    "\n",
    "      # all outputs are float32 numpy arrays, so convert types as appropriate\n",
    "      output_dict['num_detections'] = int(output_dict['num_detections'][0])\n",
    "      output_dict['detection_classes'] = output_dict[\n",
    "          'detection_classes'][0].astype(np.uint8)\n",
    "      output_dict['detection_boxes'] = output_dict['detection_boxes'][0]\n",
    "      output_dict['detection_scores'] = output_dict['detection_scores'][0]\n",
    "      if 'detection_masks' in output_dict:\n",
    "        output_dict['detection_masks'] = output_dict['detection_masks'][0]\n",
    "  return output_dict"
   ]
  },
  {
   "cell_type": "code",
   "execution_count": 24,
   "metadata": {
    "colab": {
     "autoexec": {
      "startup": false,
      "wait_interval": 0
     }
    },
    "colab_type": "code",
    "id": "LQSEnEsPWKMj"
   },
   "outputs": [],
   "source": [
    "def list_files(path):\n",
    "    #files = [f for f in listdir(path) if isfile(join(path, f))]\n",
    "    #return files\n",
    "    return glob.glob(path)\n",
    "\n",
    "def process_files(list_files, label):\n",
    "    output = []\n",
    "    for i in list_files:\n",
    "        temp = []\n",
    "        temp.append(i)\n",
    "        l = [0, 0]\n",
    "        l[label] = 1.\n",
    "        temp.append(l)\n",
    "        output.append(temp)\n",
    "    return output\n",
    "\n",
    "# samples_fishing_list = list_files(\"D:/Nutreco - PO\")\n",
    "# samples_fishing_list = list_files(\"D:/Nutreco - POC/fishing_images/fishing/*.jpg\")\n",
    "# samples_not_fishing_list = list_files(\"D:/Nutreco - POC/fishing_images/not_fishing/*.jpg\") + list_files(\"D:/Nutreco - POC/fishing_images/not_fishing_1/*.jpg\")\n",
    "# print(len(samples_fishing_list))\n",
    "# print(len(samples_not_fishing_list))\n",
    "# samples = process_files(samples_fishing_list, 1) + process_files(samples_not_fishing_list, 0)\n"
   ]
  },
  {
   "cell_type": "code",
   "execution_count": 25,
   "metadata": {},
   "outputs": [],
   "source": [
    "def read_image(path):\n",
    "    img = Image.open(path).convert('RGB')\n",
    "    img = make_square(img)\n",
    "    img = img.resize((100, 100), Image.ANTIALIAS)\n",
    "    return np.asarray(img)\n",
    "\n",
    "def pred(img):\n",
    "    #print(img)\n",
    "    img = Image.fromarray(img)\n",
    "    img = make_square(img)\n",
    "    img = img.resize((100, 100), Image.ANTIALIAS)\n",
    "    return fishing.predict(np.expand_dims(np.asarray(img), axis=0)) \n",
    "\n",
    "def make_square(im, min_size=100, fill_color=(0, 0, 0, 0)):\n",
    "    x, y = im.size\n",
    "    size = max(min_size, x, y)\n",
    "    new_im = Image.new('RGB', (size, size), fill_color)\n",
    "    #print((int((size - x) / 2), int(size - y) / 2))\n",
    "    new_im.paste(im, (int((size - x) / 2), int((size - y) / 2)))\n",
    "    return new_im\n",
    "\n",
    "#prediction step\n",
    "def load_trained_model(weights_path):\n",
    "    model = NvidiaNet()\n",
    "    model.load_weights(weights_path)\n",
    "    return model\n",
    "\n"
   ]
  },
  {
   "cell_type": "code",
   "execution_count": 26,
   "metadata": {},
   "outputs": [],
   "source": [
    "def load_graph(model_file):\n",
    "  graph = tf.Graph()\n",
    "  graph_def = tf.GraphDef()\n",
    "    \n",
    "  with open(model_file, \"rb\") as f:\n",
    "    graph_def.ParseFromString(f.read())\n",
    "  with graph.as_default():\n",
    "    tf.import_graph_def(graph_def)\n",
    "\n",
    "  return graph"
   ]
  },
  {
   "cell_type": "code",
   "execution_count": 27,
   "metadata": {},
   "outputs": [],
   "source": [
    "def load_labels(label_file):\n",
    "  label = []\n",
    "  proto_as_ascii_lines = tf.gfile.GFile(label_file).readlines()\n",
    "  for l in proto_as_ascii_lines:\n",
    "    label.append(l.rstrip())\n",
    "  return label"
   ]
  },
  {
   "cell_type": "code",
   "execution_count": 28,
   "metadata": {},
   "outputs": [],
   "source": [
    "def read_tensor_from_image_file(image_np,\n",
    "                                sess1,\n",
    "                                input_height=299,\n",
    "                                input_width=299,\n",
    "                                input_mean=0,\n",
    "                                input_std=255):\n",
    "  input_name = \"file_reader\"\n",
    "  output_name = \"normalized\"\n",
    "  file_reader = image_np\n",
    "  image_reader = tf.convert_to_tensor(image_np, np.uint8)\n",
    "  float_caster = tf.cast(image_reader, tf.float32)\n",
    "  dims_expander = tf.expand_dims(float_caster, 0)\n",
    "  resized = tf.image.resize_bilinear(dims_expander, [input_height, input_width])\n",
    "  normalized = tf.divide(tf.subtract(resized, [input_mean]), [input_std])\n",
    "  sess = tf.Session()  \n",
    "  result = sess.run(normalized)\n",
    "  return result"
   ]
  },
  {
   "cell_type": "code",
   "execution_count": 46,
   "metadata": {},
   "outputs": [],
   "source": [
    "def pred(image_np):\n",
    "  #image = Image.open(path).convert('RGB')\n",
    "  #image_np = np.asarray(image)\n",
    "  \n",
    "  model_file = r'D:\\fishing_detection\\models\\inception_retrained\\output_graph.pb'\n",
    "  graph = load_graph(model_file)\n",
    "  sess = tf.Session(graph=graph)\n",
    "  input_height = 299\n",
    "  input_width = 299\n",
    "  input_mean = 0\n",
    "  input_std = 255\n",
    "  label_file = r'D:\\fishing_detection\\data\\output_labels.txt'\n",
    "  t = read_tensor_from_image_file(\n",
    "      image_np,\n",
    "      sess,\n",
    "      input_height=input_height,\n",
    "      input_width=input_width,\n",
    "      input_mean=input_mean,\n",
    "      input_std=input_std)\n",
    "  input_name = \"import/\" + \"Placeholder\"\n",
    "  output_name = \"import/\" + \"final_result\"\n",
    "  input_operation = graph.get_operation_by_name(input_name)\n",
    "  output_operation = graph.get_operation_by_name(output_name)\n",
    "  with sess as sess:\n",
    "      results = sess.run(output_operation.outputs[0], {\n",
    "          input_operation.outputs[0]: t\n",
    "      })\n",
    "  results = np.squeeze(results)\n",
    "  return results"
   ]
  },
  {
   "cell_type": "code",
   "execution_count": 47,
   "metadata": {},
   "outputs": [],
   "source": [
    "def predict_fishing(image, boxes, classes, scores):\n",
    "    im_width, im_height = image.size\n",
    "    image_np = load_image_into_numpy_array(image)\n",
    "    predictions = {}\n",
    "    predictions['bo'] = []\n",
    "    predictions['res'] = []\n",
    "    predictions['score'] = []\n",
    "    for i in range(len(boxes)):\n",
    "        if(classes[i] == 1 and scores[i] > 0.5):\n",
    "            predictions['bo'].append(boxes[i])\n",
    "            box = tuple(boxes[i].tolist())\n",
    "            ymin, xmin, ymax, xmax = box\n",
    "            ymin = int(ymin * im_height)\n",
    "            xmin = int(xmin * im_width)\n",
    "            ymax = int(ymax * im_height)\n",
    "            xmax = int(xmax * im_width)\n",
    "            roi=image_np[ymin:ymax,xmin:xmax]\n",
    "            #c = pred(cv2.cvtColor(roi, cv2.COLOR_RGB2BGR))\n",
    "            c = pred(cv2.cvtColor(roi, cv2.COLOR_BGR2RGB))\n",
    "            if(c[0]>0.5):\n",
    "                predictions['res'].append(0)\n",
    "                predictions['score'].append(c[0])\n",
    "            else:\n",
    "                predictions['res'].append(1)\n",
    "                predictions['score'].append(c[1])\n",
    "            \n",
    "            \n",
    "    return predictions"
   ]
  },
  {
   "cell_type": "code",
   "execution_count": 48,
   "metadata": {},
   "outputs": [],
   "source": [
    "def pipeline(img):\n",
    "  image = Image.fromarray(img)\n",
    "  image_np = load_image_into_numpy_array(image)\n",
    "  # Expand dimensions since the model expects images to have shape: [1, None, None, 3]\n",
    "  image_np_expanded = np.expand_dims(image_np, axis=0)\n",
    "  output_dict = run_inference_for_single_image(image_np, detection_graph)\n",
    "  for i in range(len(output_dict['detection_classes'])):\n",
    "        if(output_dict['detection_classes'][i] != 1):\n",
    "            output_dict['detection_scores'][i] = 0.0\n",
    "  predi = predict_fishing(image, output_dict['detection_boxes'], output_dict['detection_classes'], output_dict['detection_scores'])\n",
    "  category_ind = {1: {'id': 1, 'name': 'NOT FISHING'}, 0: {'id': 0, 'name': 'FISHING'}}\n",
    "  vis_util.visualize_boxes_and_labels_on_image_array(\n",
    "      image_np,\n",
    "      np.asarray(predi['bo'], dtype=np.float32),\n",
    "      predi['res'],\n",
    "      predi['score'],\n",
    "      category_ind,\n",
    "      instance_masks=output_dict.get('detection_masks'),\n",
    "      use_normalized_coordinates=True,\n",
    "      line_thickness=8)\n",
    "  return image_np"
   ]
  },
  {
   "cell_type": "code",
   "execution_count": 50,
   "metadata": {
    "scrolled": true
   },
   "outputs": [
    {
     "name": "stdout",
     "output_type": "stream",
     "text": [
      "[MoviePy] >>>> Building video output_video\\result4.mp4\n",
      "[MoviePy] Writing video output_video\\result4.mp4\n"
     ]
    },
    {
     "name": "stderr",
     "output_type": "stream",
     "text": [
      "100%|████████████████████████████████████████████████████████████████████████████████████| 3/3 [03:53<00:00, 77.80s/it]\n"
     ]
    },
    {
     "name": "stdout",
     "output_type": "stream",
     "text": [
      "[MoviePy] Done.\n",
      "[MoviePy] >>>> Video ready: output_video\\result4.mp4 \n",
      "\n"
     ]
    }
   ],
   "source": [
    "INPUT_DIRECTORY = 'input_video'\n",
    "OUTPUT_DIRECTORY = 'output_video'\n",
    "INPUT_FILE = 'Catching_tuna_Maldivian_style.mp4'\n",
    "OUTPUT_FILE = 'result4.mp4'\n",
    "vid_output = os.path.join(OUTPUT_DIRECTORY, OUTPUT_FILE)\n",
    "vid_input = os.path.join(INPUT_DIRECTORY, INPUT_FILE)\n",
    "subclip_start = '00:01:15.50'\n",
    "subclip_end = '00:01:15.80'\n",
    "clip = VideoFileClip(vid_input).subclip(subclip_start, subclip_end)\n",
    "vid = clip.fl_image(pipeline)\n",
    "vid.write_videofile(vid_output, audio=False)"
   ]
  },
  {
   "cell_type": "code",
   "execution_count": null,
   "metadata": {},
   "outputs": [],
   "source": [
    "path = r'C:\\Users\\hitesh\\Desktop\\scp\\fishing_images\\not_fishing\\image_1960.jpg'\n",
    "image = Image.open(path).convert('RGB')\n",
    "image_np = np.asarray(image)\n",
    "model_file = r'C:\\Users\\hitesh\\Desktop\\scp\\output_graph.pb'\n",
    "graph = load_graph(model_file)\n",
    "sess = tf.Session(graph=graph)\n",
    "input_height = 299\n",
    "input_width = 299\n",
    "input_mean = 0\n",
    "input_std = 255\n",
    "label_file = r'C:\\Users\\hitesh\\Desktop\\scp\\output_labels.txt'\n",
    "t = read_tensor_from_image_file(\n",
    "    image_np,\n",
    "    sess,\n",
    "    input_height=input_height,\n",
    "    input_width=input_width,\n",
    "    input_mean=input_mean,\n",
    "    input_std=input_std)\n",
    "input_name = \"import/\" + \"Placeholder\"\n",
    "output_name = \"import/\" + \"final_result\"\n",
    "input_operation = graph.get_operation_by_name(input_name)\n",
    "output_operation = graph.get_operation_by_name(output_name)\n",
    "\n",
    "with sess as sess:\n",
    "    results = sess.run(output_operation.outputs[0], {\n",
    "        input_operation.outputs[0]: t\n",
    "    })\n",
    "results = np.squeeze(results)\n",
    "print(results)\n",
    "top_k = results.argsort()[-5:][::-1]\n",
    "labels = load_labels(label_file)\n",
    "for i in top_k:\n",
    "    print(labels[i], results[i])"
   ]
  },
  {
   "cell_type": "code",
   "execution_count": null,
   "metadata": {},
   "outputs": [],
   "source": []
  }
 ],
 "metadata": {
  "colab": {
   "default_view": {},
   "name": "object_detection_tutorial.ipynb?workspaceId=ronnyvotel:python_inference::citc",
   "provenance": [],
   "version": "0.3.2",
   "views": {}
  },
  "kernelspec": {
   "display_name": "Python 3",
   "language": "python",
   "name": "python3"
  },
  "language_info": {
   "codemirror_mode": {
    "name": "ipython",
    "version": 3
   },
   "file_extension": ".py",
   "mimetype": "text/x-python",
   "name": "python",
   "nbconvert_exporter": "python",
   "pygments_lexer": "ipython3",
   "version": "3.6.6"
  }
 },
 "nbformat": 4,
 "nbformat_minor": 1
}
